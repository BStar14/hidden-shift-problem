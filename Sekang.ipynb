{
 "cells": [
  {
   "cell_type": "markdown",
   "id": "aaa2767a",
   "metadata": {},
   "source": [
    "### 1.3 The Quantum Solution <a id='quantum-solution'> </a>\n",
    "\n",
    "\n",
    "1. Initialize the inputs qubits to the $|0\\rangle^{\\otimes n}$ state.\n",
    "2. Apply Hadamard gates to the input register.\n",
    "3. Query the oracle $O_{f'}$.\n",
    "4. Apply Hadamard gates to the input register.\n",
    "5. Query the oracle $O_{\\tilde{f}}$.\n",
    "6. Apply Hadamard gates to the input register.\n",
    "7. Measure.\n",
    "\n",
    "We denote by $f'(x)=f(x\\oplus s)$.\n",
    "The oracles $O_{f'}$ and $O_{\\tilde{f}}$ flip phases of input state, $|x\\rangle$, if the image of functions $f'$ and $\\tilde{f}$ are $-1$ respectively. I.e., $O_{f'}|x\\rangle=f'(x)|x\\rangle$ and $O_{f'}|x\\rangle=\\tilde{f}(x)|x\\rangle$.\n",
    "\n",
    "Note that \n",
    "$$\n",
    "|y\\rangle \\xrightarrow{H^{\\otimes n}} \\frac{1}{\\sqrt{2^n}} \\sum_{x\\in \\{0,1\\}^n} (-1)^{x\\cdot y}|x\\rangle.\n",
    "$$\n",
    "\n",
    "<details>\n",
    "    <summary>Explain Equation (Click to Expand)</summary>\n",
    "\n",
    "Let $|y\\rangle=|y_1\\rangle\\otimes|y_2\\rangle\\otimes\\;\\dotsm\\;\\otimes|y_n\\rangle$.\n",
    "    \n",
    "We have $H|0\\rangle=\\frac{1}{\\sqrt{2}}(|0\\rangle +|1\\rangle)$ and $H|1\\rangle=\\frac{1}{\\sqrt{2}}(|0\\rangle -|1\\rangle)$.\n",
    "    \n",
    "Then, \n",
    "$$\n",
    "H^{\\otimes n}|y\\rangle=H|y_1\\rangle\\otimes H|y_2\\rangle\\otimes\\;\\dotsm\\;\\otimes H|y_n\\rangle\n",
    "$$\n",
    "\n",
    "$$\n",
    "=\\sum_{x_1 =0}^1 \\frac{(-1)^{x_1 \\cdot y_1}}{\\sqrt{2}}|x_1\\rangle\\otimes\\sum_{x_2 =0}^1 \\frac{(-1)^{x_2 \\cdot y_2}}{\\sqrt{2}}|x_2\\rangle\\;\\otimes\\dotsm\\;\\otimes\\sum_{x_n =0}^1 \\frac{(-1)^{x_n \\cdot y_n}}{\\sqrt{2}}|x_n\\rangle \n",
    "$$\n",
    "    \n",
    "$$\n",
    "=\\sum_{x\\in\\{0,1\\}^n}(-1)^{x_1 \\cdot y_1 +\\dotsm+x_n\\cdot y_n}|x\\rangle\n",
    "$$\n",
    "</details>\n",
    "    \n",
    "$$\n",
    "H^{\\otimes n}O_{\\tilde{f}}H^{\\otimes n}O_{f'}H^{\\otimes n}|00\\dotsm 0\\rangle\n",
    "$$\n",
    "\n",
    "$$\n",
    "=H^{\\otimes n}O_{\\tilde{f}}H^{\\otimes n}O_{f'}(\\frac{1}{\\sqrt{2^n}} \\sum_{x\\in \\{0,1\\}^n} |x\\rangle)\n",
    "$$"
   ]
  },
  {
   "cell_type": "code",
   "execution_count": null,
   "id": "871aba10",
   "metadata": {},
   "outputs": [],
   "source": []
  }
 ],
 "metadata": {
  "kernelspec": {
   "display_name": "Python 3 (ipykernel)",
   "language": "python",
   "name": "python3"
  },
  "language_info": {
   "codemirror_mode": {
    "name": "ipython",
    "version": 3
   },
   "file_extension": ".py",
   "mimetype": "text/x-python",
   "name": "python",
   "nbconvert_exporter": "python",
   "pygments_lexer": "ipython3",
   "version": "3.9.7"
  }
 },
 "nbformat": 4,
 "nbformat_minor": 5
}
