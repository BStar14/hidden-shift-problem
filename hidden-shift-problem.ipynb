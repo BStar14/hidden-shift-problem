{
 "cells": [
  {
   "cell_type": "markdown",
   "id": "ade8e984",
   "metadata": {},
   "source": [
    "# Hidden Shift Problem"
   ]
  },
  {
   "cell_type": "markdown",
   "id": "fd53d995",
   "metadata": {},
   "source": [
    "In this notebook, we introduce the hidden shift problem and two different quantum algorithms to solve it. We then implement these algorithms using Qiskit and run on a simulator and device.\n",
    "\n",
    "## Contents\n",
    "\n",
    "1. [The Hidden Shift Problem](#hidden-shift-problem)  \n",
    "   1.1 [The Boolean Hidden Shift Problem](#boolean-hidden-shift-problem)  \n",
    "   1.2 [The Classical Solution](#classical-solution)  \n",
    "   1.3 [The Quantum Solution](#quantum-solution)  \n",
    "2. [Example](#example)  \n",
    "3. [Qiskit Implementation: Fourier-Transform-Accessible Algorithm](#ftaa)  \n",
    "   3.1 [Simulation](#ftaa-simulation)  \n",
    "   3.2 [Device](#ftaa-device)  \n",
    "4. [Qiskit Implementation: Fourier-Transform-Free Algorithm](#ftfa)  \n",
    "   4.1 [Simulation](#ftfa-simulation)  \n",
    "   4.2 [Device](#ftfa-device)  \n",
    "<!-- 5. [Qiskit Implementation: Integer Hidden Shift Problem](#ihsp)  \n",
    "   5.1 [Simulation](#ihsp-simulation)  \n",
    "   5.2 [Device](#ihsp-device)   -->\n",
    "5. [Problems](#problems)  \n",
    "<!-- 7. [Breaking Poly1305 Encryption](#poly1305)   -->\n",
    "6. [References](#references)"
   ]
  },
  {
   "cell_type": "markdown",
   "id": "95f6bf02",
   "metadata": {},
   "source": [
    "### 1. The Hidden Shift Problem <a id='hidden-shift-problem'> </a>\n",
    "\n",
    "The hidden shift problem is an oracle-based problem which is closely related to Simon's problem and factorization problem. There exists an quantum algorithm that solves the hidden shift problem on a boolean function with $O(n)$ queries, having exponential speedup compared to the classical algorithm.\n",
    "\n",
    "While it is unknown if the problem on an integer-valued function is also efficiently solvable via quantum computers, it is a major research area till today, as quantum advantages continue to be found in similar problems.\n",
    "\n",
    "We can model some generally used cryptographies like Poly1305 and CSIDH as the hidden shift problem, and it is also employed to benchmark quantum computers and simulators.\n",
    "\n",
    "In this notebook, we will focus on the hidden shift problem on a boolean fucntion."
   ]
  },
  {
   "cell_type": "markdown",
   "id": "f430418a",
   "metadata": {},
   "source": [
    "### 1.1 The Boolean Hidden Shift Problem <a id='boolean-hidden-shift-problem'> </a>\n",
    "\n",
    "Suppose $n$-bit boolean functions $f, g: \\mathbb{Z}^n_2 \\rightarrow \\mathbb{Z}_2$ satisfies the following properties:\n",
    "\n",
    "- **non-periodic**: if $f(x + t) = f(x)$ for some $t$, then $t=0$\n",
    "- **shift relation**: there exists $s \\in \\mathbb{Z}^n_2$ such that $f(x + s) = g(x)$\n",
    "\n",
    "Given an oracle that encodes $f$ and $g$, how can we find the hidden shift $s$ while accessing the oracle as little as possible?"
   ]
  },
  {
   "cell_type": "markdown",
   "id": "178a469a",
   "metadata": {},
   "source": [
    "### 1.2 The Classical Solution <a id='classical-solution'> </a>\n",
    "\n",
    "It has been proved that the classical query complexity of the boolean hidden shift problem is in $\\Omega(2^{n/2})$. In general, we can simply employ the brute-force approach putting in all possible inputs to classify $f(x)$ and $g(x)$. It costs $2 \\cdot 2^n$ oracle queries."
   ]
  },
  {
   "cell_type": "markdown",
   "id": "39bf8a28",
   "metadata": {},
   "source": [
    "### 1.3 The Quantum Solution <a id='quantum-solution'> </a>\n",
    "\n",
    "Before we learn about this algorithm, we must first talk about the Fourier transform on the boolean group $\\mathbb{Z}^n_2$. Here we mean by \"boolean group\" where the addition is defined by bitwise modular addition, so that $01 + 11 = 10$ for example. For any real valued function $f : \\mathbb{Z}^n_2 \\rightarrow \\mathbb{R}$, the Fourier transform of $f$ is a function $\\tilde{f} : \\mathbb{Z}^n_2 \\rightarrow \\mathbb{R}$ defined by:\n",
    "\n",
    "$$\n",
    "\\tilde{f}(x) = \\frac{1}{\\sqrt{2^n}} \\sum_{y} (-1)^{x \\cdot y}f(y)\n",
    "$$\n",
    "\n",
    "It is quite interesting that this specific Fourier transform is called \"Hadamard transform\", while the Hadamard transform on qubits is defined by:\n",
    "\n",
    "$$\n",
    "H \\left| x \\right> = \\frac{1}{\\sqrt{2^n}} \\sum_{y} (-1)^{x \\cdot y} \\left| y \\right>,\n",
    "$$"
   ]
  },
  {
   "cell_type": "markdown",
   "id": "f44d0c15",
   "metadata": {},
   "source": [
    "#### 1.3a Fourier-transform-accessible algorithm\n",
    "\n",
    "If the given oracle lets you access to the Fourier-transformed function $\\tilde{f}$, there exists an one-shot algorithm that directly returns $\\left| s \\right>$\n",
    "\n",
    "![hsp_ftaa](images/hsp_ftaa.jpg)\n",
    "\n",
    "The oracles $U_{g}$ and $U_{\\tilde{f}}$ flip phases of input state $\\left| x \\right>$ according to each function $g$ and $\\tilde{f}$, so $U_{g} \\left| x \\right> = (-1)^{g(x)} \\left| x \\right>$ and $U_{\\tilde{f}} \\left| x \\right> = (-1)^{\\tilde{f}(x)} \\left| x \\right>$. We can simply denote $(-1)^{f(x)} = F(x)$, then we can also benefit from the fact that $\\tilde{F}(x) = (-1)^{\\tilde{f}(x)}$.\n",
    "\n",
    "Now, let's go through the steps of the algorithm:\n",
    "\n",
    "<ol>\n",
    "   <li>\n",
    "        The $n$-qubit register is initialized to the zero state:  \n",
    "$$\n",
    "\\left| \\psi_1 \\right> = \\left| 0 \\right> ^{\\otimes n}\n",
    "$$\n",
    "\n",
    "   </li>\n",
    "   \n",
    "   <li>\n",
    "        Apply a Hadamard transform to the whole register:  \n",
    "$$\n",
    "\\left| \\psi_2 \\right> = \\frac{1}{\\sqrt{2^n}} \\sum_{x} \\left| x \\right>\n",
    "$$\n",
    "\n",
    "   </li>\n",
    "\n",
    "   <li>\n",
    "        Query the oracle $U_{g}$:  \n",
    "$$\n",
    "\\begin{aligned}\n",
    "    \\left| \\psi_3 \\right>\n",
    "        & = \\frac{1}{\\sqrt{2^n}} \\sum_{x} G(x) \\left| x \\right> \\\\\n",
    "        & = \\frac{1}{\\sqrt{2^n}} \\sum_{x} F(x + s) \\left| x \\right>\n",
    "\\end{aligned}\n",
    "$$\n",
    "\n",
    "   </li>\n",
    "\n",
    "   <li>\n",
    "        Apply Hadamard gates again to the register:  \n",
    "$$\n",
    "\\begin{aligned}\n",
    "    \\left| \\psi_4 \\right>\n",
    "        & = \\frac{1}{2^n} \\sum_{y} \\left[ \\sum_{x} (-1)^{x \\cdot y} F(x + s) \\right] \\left| y \\right> \\\\\n",
    "        & = \\frac{1}{\\sqrt{2^n}} \\sum_{y} (-1)^{s \\cdot y} \\left[ \\frac{1}{\\sqrt{2^n}} \\sum_{x} (-1)^{(x + s) \\cdot y} F(x + s) \\right] \\left| y \\right>\n",
    "\\end{aligned}\n",
    "$$\n",
    "\n",
    "We can rewrite $(x + s)$ as $x$, because the index runs for every possible inputs, so we get:  \n",
    "$$\n",
    "= \\frac{1}{\\sqrt{2^n}} \\sum_{y} (-1)^{s \\cdot y} \\left[ \\frac{1}{\\sqrt{2^n}} \\sum_{x} (-1)^{x \\cdot y} F(x) \\right] \\left| y \\right>\n",
    "$$\n",
    "\n",
    "However the term inside square brackets is nothing but the $\\tilde{F}$:  \n",
    "$$\n",
    "= \\frac{1}{\\sqrt{2^n}} \\sum_{y} (-1)^{s \\cdot y} \\tilde{F}(y) \\left| y \\right>\n",
    "$$\n",
    "\n",
    "   </li>\n",
    "\n",
    "   <li>\n",
    "        Query the oracle $U_{\\tilde{f}}$:  \n",
    "$$\n",
    "\\begin{aligned}\n",
    "    \\left| \\psi_5 \\right>\n",
    "        & = \\frac{1}{\\sqrt{2^n}} \\sum_{y} (-1)^{s \\cdot y} \\tilde{F}(y) \\tilde{F}(y) \\left| y \\right> \\\\\n",
    "        & = \\frac{1}{\\sqrt{2^n}} \\sum_{y} (-1)^{s \\cdot y} \\left| y \\right>\n",
    "\\end{aligned}\n",
    "$$\n",
    "        \n",
    "   </li>\n",
    "\n",
    "   <li>\n",
    "        Finally, retrieve $\\left| s \\right>$ by cancelling out the Hadamard transform:  \n",
    "$$\n",
    "\\left| \\psi_6 \\right> = \\left| s \\right>\n",
    "$$\n",
    "        \n",
    "   </li>\n",
    "</ol>"
   ]
  },
  {
   "cell_type": "markdown",
   "id": "f8ead28b",
   "metadata": {},
   "source": [
    "#### 1.3b Fourier-transform-free algorithm\n",
    "\n",
    "When we do not have access to the Fourier-transformed function $\\tilde{f}$, we can still solve the problem with $O(n)$ query complexity, which actually has exponential speedup.\n",
    "\n",
    "![hsp_ftfa](images/hsp_ftfa.jpg)\n",
    "\n",
    "<ol>\n",
    "   <li>\n",
    "        The output register and $n$-qubit input register are initialized to the zero state:  \n",
    "$$\n",
    "\\left| \\psi_1 \\right> = \\left| 0 \\right> \\left| 0 \\right>^{\\otimes n}\n",
    "$$\n",
    "   </li>\n",
    "   \n",
    "   <li>\n",
    "        Apply Hadamard gates on the input register to create uniform superposition:  \n",
    "$$\n",
    "\\left| \\psi_2 \\right> = \\frac{1}{\\sqrt{2^n}} \\sum_{x} \\left| 0 \\right> \\left| x \\right>\n",
    "$$\n",
    "\n",
    "   </li>\n",
    "\n",
    "   <li>\n",
    "        Query the oracle $O_f$:  \n",
    "$$\n",
    "\\left| \\psi_3 \\right> = \\frac{1}{\\sqrt{2^n}} \\sum_{x} \\left| f(x) \\right> \\left| x \\right>\n",
    "$$\n",
    "\n",
    "   </li>\n",
    "\n",
    "   <li>\n",
    "        Apply Z gate on the output register:  \n",
    "$$\n",
    "\\begin{aligned}\n",
    "    \\left| \\psi_4 \\right>\n",
    "        & = \\frac{1}{\\sqrt{2^n}} \\sum_{x} (-1)^{f(x)} \\left| f(x) \\right> \\left| x \\right> \\\\\n",
    "        & = \\frac{1}{\\sqrt{2^n}} \\sum_{x} F(x) \\left| f(x) \\right> \\left| x \\right>\n",
    "\\end{aligned}\n",
    "$$\n",
    "\n",
    "   </li>\n",
    "\n",
    "   <li>\n",
    "        Query the oracle $O_g$:  \n",
    "$$\n",
    "\\begin{aligned}\n",
    "    \\left| \\psi_5 \\right>\n",
    "        & = \\frac{1}{\\sqrt{2^n}} \\sum_{x} F(x) \\left| f(x) + g(x) \\right> \\left| x \\right> \\\\\n",
    "        & = \\frac{1}{\\sqrt{2^n}} \\sum_{x} \\left[ \\frac{F(x) + G(x)}{2} \\left| 0 \\right> + \\frac{F(x) - G(x)}{2} \\left| 1 \\right> \\right] \\left| x \\right>\n",
    "\\end{aligned}\n",
    "$$\n",
    "\n",
    "   </li>\n",
    "\n",
    "   <li>\n",
    "        Apply Hadamard transform on the input register:  \n",
    "$$\n",
    "\\begin{aligned}\n",
    "    \\left| \\psi_6 \\right>\n",
    "        & = \\frac{1}{2^n} \\sum_{x, y} (-1)^{x \\cdot y} \\left[ \\frac{F(x) + G(x)}{2} \\left| 0 \\right> + \\frac{F(x) - G(x)}{2} \\left| 1 \\right> \\right] \\left| y \\right> \\\\\n",
    "        & = \\frac{1}{2^n} \\sum_{x, y} \\left[ \\frac{(-1)^{x \\cdot y} F(x) + (-1)^{x \\cdot y} F(x + s)}{2} \\left| 0 \\right> + \\frac{(-1)^{x \\cdot y} F(x) - (-1)^{x \\cdot y} F(x + s)}{2} \\left| 1 \\right> \\right] \\left| y \\right> \\\\\n",
    "        & = \\frac{1}{\\sqrt{2^n}} \\sum_{y} \\left[ \\frac{\\tilde{F}(y) + (-1)^{s \\cdot y} \\tilde{F}(y)}{2} \\left| 0 \\right> + \\frac{\\tilde{F}(y) - (-1)^{s \\cdot y} \\tilde{F}(y)}{2} \\left| 1 \\right> \\right] \\left| y \\right>\n",
    "\\end{aligned}\n",
    "$$\n",
    "\n",
    "Then we can simplify the equation with the binary index $b$:  \n",
    "$$\n",
    "\\begin{aligned}\n",
    "    & = \\frac{1}{\\sqrt{2^n}} \\sum_{b, y} \\tilde{F}(y) \\left( \\frac{1 + (-1)^{(1, s) \\cdot (b, y)}}{2} \\right) \\left| b \\right> \\left| y \\right>\n",
    "\\end{aligned}\n",
    "$$\n",
    "\n",
    "Now we measure the state $\\left| b, y \\right>$, then the probability of getting a result $\\left| b_0, y_0 \\right>$ is:  \n",
    "$$\n",
    "\\begin{aligned}\n",
    "    P(b_0, y_0)\n",
    "        & = \\left| \\left< b_0, y_0 \\middle| \\frac{1}{\\sqrt{2^n}} \\sum_{b, y} \\tilde{F}(y) \\left( \\frac{1 + (-1)^{(1, s) \\cdot (b, y)}}{2} \\right) \\middle| b, y \\right> \\right| ^2 \\\\\n",
    "        & = \\frac{1}{2^n} \\cdot \\left| \\tilde{F}(y_0) \\right| ^2 \\cdot \\left| \\frac{1 + (-1)^{(1, s) \\cdot (b_0, y_0)}}{2} \\right| ^2 \\\\\n",
    "        & = \\frac{\\delta ((1, s) \\cdot (b_0, y_0))}{2^n}\n",
    "\\end{aligned}\n",
    "$$\n",
    "\n",
    "It clearly states that the result is an uniform superposition of the states that are orthogonal to the state $\\left| 1, s \\right>$.\n",
    "\n",
    "Once you get the outputs $(b_1, y_1), (b_2, y_2), \\cdots (b_n, y_n)$, we can solve the following equation to find $\\left| s \\right>$:\n",
    "\n",
    "$$\n",
    "\\begin{cases}\n",
    "    s \\cdot y_1 = b_1 \\\\\n",
    "    s \\cdot y_2 = b_2 \\\\\n",
    "    \\vdots \\\\\n",
    "    s \\cdot y_n = b_n\n",
    "\\end{cases}\n",
    "$$\n",
    "\n",
    "The hidden shift $s$ can be uniquely characterized by $n$ independent $y_i$s, so we repeat the algorithm a total number of $O(n)$ times to get a constant probability to get a sufficient number of bitstrings.\n",
    "\n",
    "   </li>\n",
    "</ol>"
   ]
  },
  {
   "cell_type": "markdown",
   "id": "1e6d6326",
   "metadata": {},
   "source": [
    "## 2. Example <a id='example'> </a>\n",
    "\n",
    "Let's go through a specific example of the hidden shift algorithm for the case $n=2$ and $s=10$. As the oracle must be able to encode the Fourier-transformed function $\\tilde{f}$, we employ the Maiorana-McFarland class of bent functions: $\\mathbb{Z}^n_2 \\rightarrow \\mathbb{Z}_2$ mapping the input string $(x, y) \\rightarrow f(x, y)$ as below.\n",
    "\n",
    "$$\n",
    "f(x, y) = x \\cdot y + h(x) \\quad \\mathrm{where \\;} h(x) \\mathrm{\\; is \\; an \\; arbitrary \\; boolean \\; function \\;} \\mathbb{Z}^{n/2}_2 \\rightarrow \\mathbb{Z}_2\n",
    "$$\n",
    "\n",
    "For this special class of boolean function, it is known that\n",
    "\n",
    "$$\n",
    "\\tilde{f}(x, y) = x \\cdot y + h(y)\n",
    "$$\n",
    "\n",
    "In this example, we simply choose $h(x) = x$ to get the output table as below.\n",
    "\n",
    "| $$(x,y)$$ | $$f(x,y)$$ | $$g(x,y)$$ | $$\\tilde{f}(x,y)$$ |\n",
    "|:--:|:-:|:-:|:-:|\n",
    "| 00 | 0 | 0 | 0 |\n",
    "| 01 | 1 | 0 | 0 |\n",
    "| 10 | 0 | 0 | 1 |\n",
    "| 11 | 0 | 1 | 0 |\n",
    "\n",
    "Now for this set of conditions, each algorithm works as follows:"
   ]
  },
  {
   "cell_type": "markdown",
   "id": "1bd40cbb",
   "metadata": {},
   "source": [
    "### 2.1 Fourier-Transform-Accessible Algorithm\n",
    "\n",
    "<ol>\n",
    "   <li>\n",
    "        The 2-qubit register is initialized to the zero state:  \n",
    "$$\n",
    "\\left| \\psi_1 \\right> = \\left| 00 \\right>\n",
    "$$\n",
    "\n",
    "   </li>\n",
    "   \n",
    "   <li>\n",
    "        Apply a Hadamard transform to the whole register:  \n",
    "$$\n",
    "\\left| \\psi_2 \\right> = \\frac{1}{\\sqrt{2^2}} \\left[ \\left| 00 \\right> + \\left| 01 \\right> + \\left| 10 \\right> + \\left| 11 \\right> \\right]\n",
    "$$\n",
    "\n",
    "   </li>\n",
    "\n",
    "   <li>\n",
    "        Query the oracle $U_{g}$:  \n",
    "$$\n",
    "\\left| \\psi_3 \\right> = \\frac{1}{\\sqrt{2^2}} \\left[ \\left| 00 \\right> + \\left| 01 \\right> + \\left| 10 \\right> - \\left| 11 \\right> \\right]\n",
    "$$\n",
    "\n",
    "   </li>\n",
    "\n",
    "   <li>\n",
    "        Apply Hadamard gates again to the register:  \n",
    "$$\n",
    "\\begin{aligned}\n",
    "    \\left| \\psi_4 \\right> = \\frac{1}{2^2} ( \\;\n",
    "        & \\left| 00 \\right> + \\left| 01 \\right> + \\left| 10 \\right> + \\left| 11 \\right> \\\\[5pt]\n",
    "        + & \\left| 00 \\right> - \\left| 01 \\right> + \\left| 10 \\right> - \\left| 11 \\right> \\\\[6pt]\n",
    "        + & \\left| 00 \\right> + \\left| 01 \\right> - \\left| 10 \\right> - \\left| 11 \\right> \\\\[6pt]\n",
    "        - & \\left| 00 \\right> + \\left| 01 \\right> + \\left| 10 \\right> - \\left| 11 \\right> \\; )\n",
    "\\end{aligned}\n",
    "$$\n",
    "\n",
    "Summing up vertically, we get:\n",
    "$$\n",
    "= \\frac{1}{\\sqrt{2^2}} \\left( \\; \\left| 00 \\right> + \\left| 01 \\right> + \\left| 10 \\right> - \\left| 11 \\right> \\; \\right)\n",
    "$$\n",
    "\n",
    "   </li>\n",
    "\n",
    "   <li>\n",
    "        Query the oracle $U_{\\tilde{f}}$:  \n",
    "$$\n",
    "\\left| \\psi_5 \\right> = \\frac{1}{\\sqrt{2^2}} \\left( \\; \\left| 00 \\right> + \\left| 01 \\right> - \\left| 10 \\right> - \\left| 11 \\right> \\; \\right)\n",
    "$$\n",
    "\n",
    "   </li>\n",
    "\n",
    "   <li>\n",
    "        Finally, retrieve $\\left| s \\right>$ by cancelling out the Hadamard transform:  \n",
    "$$\n",
    "\\begin{aligned}\n",
    "    \\left| \\psi_6 \\right> = \\frac{1}{2^2} ( \\;\n",
    "        & \\left| 00 \\right> + \\left| 01 \\right> + \\left| 10 \\right> + \\left| 11 \\right> \\\\[5pt]\n",
    "        + & \\left| 00 \\right> - \\left| 01 \\right> + \\left| 10 \\right> - \\left| 11 \\right> \\\\[6pt]\n",
    "        - & \\left| 00 \\right> - \\left| 01 \\right> + \\left| 10 \\right> + \\left| 11 \\right> \\\\[6pt]\n",
    "        - & \\left| 00 \\right> + \\left| 01 \\right> + \\left| 10 \\right> - \\left| 11 \\right> \\; ) \\\\[6pt]\n",
    "    = \\left| 10 \\right> & = \\left| s \\right>\n",
    "\\end{aligned}\n",
    "$$\n",
    "        \n",
    "   </li>\n",
    "</ol>"
   ]
  },
  {
   "cell_type": "markdown",
   "id": "130e6b76",
   "metadata": {},
   "source": [
    "### 2.2 Fourier-Transform-Free Algorithm\n",
    "\n",
    "![hsp_ftfa2.2](images/hsp_ftfa2.2.jpg)\n",
    "\n",
    "<ol>\n",
    "   <li>\n",
    "        The output register and $n$-qubit input register are initialized to the zero state:  \n",
    "$$\n",
    "\\left| \\psi_1 \\right> = \\left| 0 \\right> \\left| 0 \\right>^{\\otimes n}\n",
    "$$\n",
    "   </li>\n",
    "   \n",
    "   <li>\n",
    "        Apply Hadamard gates on the input register to create uniform superposition:  \n",
    "$$\n",
    "\\left| \\psi_2 \\right> = \\frac{1}{\\sqrt{2^n}} \\sum_{x} \\left| 0 \\right> \\left| x \\right>\n",
    "$$\n",
    "\n",
    "   </li>\n",
    "\n",
    "   <li>\n",
    "        Query the oracle $O_f$:  \n",
    "$$\n",
    "\\left| \\psi_3 \\right> = \\frac{1}{\\sqrt{2^n}} \\sum_{x} \\left| f(x) \\right> \\left| x \\right>\n",
    "$$\n",
    "\n",
    "   </li>\n",
    "\n",
    "   <li>\n",
    "        Apply Z gate on the output register:  \n",
    "$$\n",
    "\\begin{aligned}\n",
    "    \\left| \\psi_4 \\right>\n",
    "        & = \\frac{1}{\\sqrt{2^n}} \\sum_{x} (-1)^{f(x)} \\left| f(x) \\right> \\left| x \\right> \\\\\n",
    "        & = \\frac{1}{\\sqrt{2^n}} \\sum_{x} F(x) \\left| f(x) \\right> \\left| x \\right>\n",
    "\\end{aligned}\n",
    "$$\n",
    "\n",
    "   </li>\n",
    "\n",
    "   <li>\n",
    "        Query the oracle $O_g$:  \n",
    "$$\n",
    "\\begin{aligned}\n",
    "    \\left| \\psi_5 \\right>\n",
    "        & = \\frac{1}{\\sqrt{2^n}} \\sum_{x} F(x) \\left| f(x) + g(x) \\right> \\left| x \\right> \\\\\n",
    "        & = \\frac{1}{\\sqrt{2^n}} \\sum_{x} \\left[ \\frac{F(x) + G(x)}{2} \\left| 0 \\right> + \\frac{F(x) - G(x)}{2} \\left| 1 \\right> \\right] \\left| x \\right>\n",
    "\\end{aligned}\n",
    "$$\n",
    "\n",
    "   </li>\n",
    "\n",
    "   <li>\n",
    "        Apply Hadamard transform on the input register:  \n",
    "$$\n",
    "\\begin{aligned}\n",
    "    \\left| \\psi_6 \\right>\n",
    "        & = \\frac{1}{2^n} \\sum_{x, y} (-1)^{x \\cdot y} \\left[ \\frac{F(x) + G(x)}{2} \\left| 0 \\right> + \\frac{F(x) - G(x)}{2} \\left| 1 \\right> \\right] \\left| y \\right> \\\\\n",
    "        & = \\frac{1}{2^n} \\sum_{x, y} \\left[ \\frac{(-1)^{x \\cdot y} F(x) + (-1)^{x \\cdot y} F(x + s)}{2} \\left| 0 \\right> + \\frac{(-1)^{x \\cdot y} F(x) - (-1)^{x \\cdot y} F(x + s)}{2} \\left| 1 \\right> \\right] \\left| y \\right> \\\\\n",
    "        & = \\frac{1}{\\sqrt{2^n}} \\sum_{y} \\left[ \\frac{\\tilde{F}(y) + (-1)^{s \\cdot y} \\tilde{F}(y)}{2} \\left| 0 \\right> + \\frac{\\tilde{F}(y) - (-1)^{s \\cdot y} \\tilde{F}(y)}{2} \\left| 1 \\right> \\right] \\left| y \\right>\n",
    "\\end{aligned}\n",
    "$$\n",
    "\n",
    "Then we can simplify the equation with the binary index $b$:  \n",
    "$$\n",
    "\\begin{aligned}\n",
    "    & = \\frac{1}{\\sqrt{2^n}} \\sum_{b, y} \\tilde{F}(y) \\left( \\frac{1 + (-1)^{(1, s) \\cdot (b, y)}}{2} \\right) \\left| b \\right> \\left| y \\right>\n",
    "\\end{aligned}\n",
    "$$\n",
    "\n",
    "   </li>\n",
    "</ol>"
   ]
  },
  {
   "cell_type": "markdown",
   "id": "029899df",
   "metadata": {},
   "source": [
    "## 3. Qiskit Implementation: Fourier-Transform-Accessible Algorithm <a id='ftaa'> </a>\n",
    "\n",
    "Now we will walk through the algorithm for the case in which we have an access to the Fourier transformed function. We will implement it via Qiskit for a 4-bit string $s=1011$."
   ]
  },
  {
   "cell_type": "code",
   "execution_count": 1,
   "id": "14b48eb8",
   "metadata": {},
   "outputs": [],
   "source": [
    "# initialization\n",
    "import numpy as np\n",
    "\n",
    "# importing Qiskit\n",
    "from qiskit import IBMQ, Aer, QuantumCircuit, transpile, assemble\n",
    "from qiskit.providers.ibmq import least_busy\n",
    "\n",
    "# import basic plot tools\n",
    "from qiskit.visualization import plot_histogram"
   ]
  },
  {
   "cell_type": "markdown",
   "id": "eba1509b",
   "metadata": {},
   "source": [
    "We first set the number of qubits $n$ and the hidden shift $s$."
   ]
  },
  {
   "cell_type": "code",
   "execution_count": 2,
   "id": "8c5c0b96",
   "metadata": {},
   "outputs": [],
   "source": [
    "n = 4         # number of input qubits\n",
    "s = '1011'    # the binary hidden shift string"
   ]
  },
  {
   "cell_type": "markdown",
   "id": "a4780cdf",
   "metadata": {},
   "source": [
    "The hidden shift $s$ together with some boolean function $f$ determines the circuit for the quantum oracle. As we have to implement the Fourier transformed function $\\tilde{f}$, we employ again the Maiorana-McFarland class of bent functions. Here we employ the AND function $h(x) = x_1 x_2$ for example. Then the boolean function $f$ is defined as follows:\n",
    "\n",
    "$$\n",
    "f(x, y) = x \\cdot y + h(x) = (x_1 y_1 + x_2 y_2) + x_1 x_2\n",
    "$$\n",
    "\n",
    "From now on, we would see how we use Qiskit to encode the oracles $U_{g}$ and $U_{\\tilde{f}}$ in our example. Remind that the oracles are running in some cryptosystem, so they are hidden and not revealed. We are aiming to check whether our algorithm could give the hidden shift $s$ for this specific example."
   ]
  },
  {
   "cell_type": "code",
   "execution_count": 3,
   "id": "72a3693e",
   "metadata": {},
   "outputs": [
    {
     "data": {
      "image/png": "[encoded data removed]",
      "text/plain": [
       "<Figure size 146.797x264.88 with 1 Axes>"
      ]
     },
     "execution_count": 3,
     "metadata": {},
     "output_type": "execute_result"
    }
   ],
   "source": [
    "def shift_s(n, s):\n",
    "    \"\"\"Shifting operation for the given string s\"\"\"\n",
    "    shift_s = QuantumCircuit(n)\n",
    "    s = s[::-1]    # reverse s to fit qiskit's qubit ordering\n",
    "    for i in range(n):\n",
    "        if s[i] == '0': \n",
    "            continue\n",
    "        else:\n",
    "            shift_s.x(i)    # apply X-gates to shift the input\n",
    "    shift_s.name = 'S(x)'\n",
    "    return shift_s\n",
    "\n",
    "# Display circuit\n",
    "shift_s(n, s).draw('mpl')"
   ]
  },
  {
   "cell_type": "code",
   "execution_count": 4,
   "id": "e36506f8",
   "metadata": {},
   "outputs": [
    {
     "data": {
      "image/png": "[encoded data removed]",
      "text/plain": [
       "<Figure size 387.597x264.88 with 1 Axes>"
      ]
     },
     "execution_count": 4,
     "metadata": {},
     "output_type": "execute_result"
    }
   ],
   "source": [
    "def oracle_g(n):\n",
    "    \"\"\"Oracle g\"\"\"\n",
    "    oracle_g = QuantumCircuit(n)\n",
    "    oracle_g.append(shift_s(n, s), qargs=range(n))    # shift the inputs\n",
    "    \n",
    "    # Apply F(x) = (-1)^f(x)\n",
    "    # x·y corresponds to controlled-z gates between first half qubits and second half qubits\n",
    "    for i in range(int(n/2)):\n",
    "        oracle_g.cz(i,i+int(n/2))\n",
    "    \n",
    "    # h(x) in our example corresponds to the controlled-z gate between first and second qubits\n",
    "    oracle_g.cz(0, 1)\n",
    "    \n",
    "    oracle_g.append(shift_s(n, s), qargs=range(n))    # return the inputs\n",
    "    oracle_g.name = 'Oracle g'\n",
    "    return oracle_g\n",
    "\n",
    "# Display circuit\n",
    "oracle_g(n).draw('mpl')"
   ]
  },
  {
   "cell_type": "code",
   "execution_count": 5,
   "id": "d1cd0c6b",
   "metadata": {},
   "outputs": [
    {
     "data": {
      "image/png": "[encoded data removed]",
      "text/plain": [
       "<Figure size 267.197x264.88 with 1 Axes>"
      ]
     },
     "execution_count": 5,
     "metadata": {},
     "output_type": "execute_result"
    }
   ],
   "source": [
    "def oracle_f_tilde(n):\n",
    "    \"\"\"Oracle f tilde\"\"\"\n",
    "    oracle_f_tilde = QuantumCircuit(n)\n",
    "    \n",
    "    # Apply the Fourier transformed function\n",
    "    # x·y corresponds to controlled-z gates between first half qubits and second half qubits\n",
    "    for i in range(int(n/2)):\n",
    "        oracle_f_tilde.cz(i,i+int(n/2))\n",
    "    \n",
    "    # Apply h(y), that is, a controlled-z gate on second half qubits\n",
    "    oracle_f_tilde.cz(2, 3)\n",
    "    \n",
    "    oracle_f_tilde.name = 'Oracle f tilde'\n",
    "    return oracle_f_tilde\n",
    "\n",
    "# Display circuit\n",
    "oracle_f_tilde(n).draw('mpl')"
   ]
  },
  {
   "cell_type": "markdown",
   "id": "901f742b",
   "metadata": {},
   "source": [
    "We have implemented the oracles so far. Now we implement the actual algorithm circuit to compute the hidden shift $s$ from the oracles."
   ]
  },
  {
   "cell_type": "code",
   "execution_count": 6,
   "id": "2e0a676f",
   "metadata": {},
   "outputs": [
    {
     "data": {
      "image/png": "[encoded data removed]",
      "text/plain": [
       "<Figure size 1110x325.08 with 1 Axes>"
      ]
     },
     "execution_count": 6,
     "metadata": {},
     "output_type": "execute_result"
    }
   ],
   "source": [
    "hsp_circuit = QuantumCircuit(n, n)\n",
    "\n",
    "# Apply Hadamard gates to make superposition\n",
    "for i in range(n):\n",
    "    hsp_circuit.h(i)\n",
    "hsp_circuit.barrier()    # barrier is for visual separation\n",
    "\n",
    "# Query the oracle g by appending the oracle circuit on ours\n",
    "hsp_circuit.append(oracle_g(n), range(n))\n",
    "hsp_circuit.barrier()\n",
    "\n",
    "# Apply Hadamard gates to perform a boolean Fourier transform\n",
    "for i in range(n):\n",
    "    hsp_circuit.h(i)\n",
    "hsp_circuit.barrier()\n",
    "\n",
    "# Query the oracle f tilde\n",
    "hsp_circuit.append(oracle_f_tilde(n), range(n))\n",
    "hsp_circuit.barrier()\n",
    "\n",
    "# Retrieve s by performing the boolean Fourier transform again\n",
    "for i in range(n):\n",
    "    hsp_circuit.h(i)\n",
    "hsp_circuit.barrier()\n",
    "\n",
    "# Measure all qubits\n",
    "for i in range(n):\n",
    "    hsp_circuit.measure(i, i)\n",
    "\n",
    "# Display circuit\n",
    "hsp_circuit.draw('mpl')"
   ]
  },
  {
   "cell_type": "markdown",
   "id": "f2f0ca38",
   "metadata": {},
   "source": [
    "### 3.1 Experiment with Simulators <a id='ftaa-simulation'> </a>\n",
    "\n",
    "We can run the above circuit on the simulator."
   ]
  },
  {
   "cell_type": "code",
   "execution_count": 7,
   "id": "a611ed25",
   "metadata": {
    "scrolled": true
   },
   "outputs": [
    {
     "data": {
      "image/png": "[encoded data removed]",
      "text/plain": [
       "<Figure size 504x360 with 1 Axes>"
      ]
     },
     "execution_count": 7,
     "metadata": {},
     "output_type": "execute_result"
    }
   ],
   "source": [
    "# use local simulator\n",
    "aer_sim = Aer.get_backend('aer_simulator')\n",
    "transpiled_hsp_circuit = transpile(hsp_circuit, aer_sim)\n",
    "qobj = assemble(transpiled_hsp_circuit, aer_sim)\n",
    "results = aer_sim.run(qobj).result()\n",
    "answer = results.get_counts()\n",
    "\n",
    "plot_histogram(answer)"
   ]
  },
  {
   "cell_type": "markdown",
   "id": "8104275e",
   "metadata": {},
   "source": [
    "We can see that the result of the measurement is the hidden string 1011."
   ]
  },
  {
   "cell_type": "markdown",
   "id": "360185dd",
   "metadata": {},
   "source": [
    "### 3.2 Experiment with Real Devices <a id='ftaa-device'> </a>\n",
    "\n",
    "We can run the circuit on the real device as below."
   ]
  },
  {
   "cell_type": "code",
   "execution_count": 8,
   "id": "725b48fc",
   "metadata": {},
   "outputs": [
    {
     "name": "stdout",
     "output_type": "stream",
     "text": [
      "least busy backend:  ibmq_lima\n"
     ]
    }
   ],
   "source": [
    "# Load our saved IBMQ accounts and get the least busy backend device with more than or equal to n qubits\n",
    "IBMQ.load_account()\n",
    "provider = IBMQ.get_provider('ibm-q')\n",
    "provider.backends()\n",
    "backend = least_busy(provider.backends(filters=lambda x:\n",
    "                                       int(x.configuration().n_qubits) <= 4*n\n",
    "                                       and int(x.configuration().n_qubits) >= n\n",
    "                                       and not x.configuration().simulator\n",
    "                                       and x.status().operational==True))\n",
    "print(\"least busy backend: \", backend)"
   ]
  },
  {
   "cell_type": "code",
   "execution_count": 9,
   "id": "a9ad2b5c",
   "metadata": {},
   "outputs": [
    {
     "name": "stdout",
     "output_type": "stream",
     "text": [
      "Job Status: job has successfully run\n"
     ]
    }
   ],
   "source": [
    "# Run our circuit on the least busy backend. Monitor the execution of the job in the queue\n",
    "from qiskit.tools.monitor import job_monitor\n",
    "\n",
    "shots = 1024\n",
    "transpiled_hsp_circuit = transpile(hsp_circuit, backend)\n",
    "job = backend.run(transpiled_hsp_circuit, shots=shots)\n",
    "\n",
    "job_monitor(job, interval=2)"
   ]
  },
  {
   "cell_type": "code",
   "execution_count": 10,
   "id": "cc2c56c2",
   "metadata": {},
   "outputs": [
    {
     "data": {
      "image/png": "[encoded data removed]",
      "text/plain": [
       "<Figure size 504x360 with 1 Axes>"
      ]
     },
     "execution_count": 10,
     "metadata": {},
     "output_type": "execute_result"
    }
   ],
   "source": [
    "# Get the results from the computation\n",
    "results = job.result()\n",
    "answer = results.get_counts()\n",
    "\n",
    "plot_histogram(answer)"
   ]
  },
  {
   "cell_type": "markdown",
   "id": "3c01582a",
   "metadata": {},
   "source": [
    "As we can see, there is a significatly higher chance of measuring $\\left| 1011 \\right>$. The other results are due to errors in the real device."
   ]
  },
  {
   "cell_type": "markdown",
   "id": "4a8eb54a",
   "metadata": {},
   "source": [
    "## 3. Qiskit Implementation: Fourier-Transform-Free Algorithm <a id='ftfa'> </a>\n",
    "\n",
    "Now we go through the more general case where the oracle does not provide the Foruier-transformed function $\\tilde{f}$. The second algorithm requires $2n+1$ qubits, but the current free-accessible number of qubits is up to 5. Thus we reduce the input size to 2 qubits, and then we can employ the function used in the example section again:\n",
    "\n",
    "$$\n",
    "f(x, y) = x \\cdot y + x\n",
    "$$\n",
    "\n",
    "Now $n=2$ and $s=10$."
   ]
  },
  {
   "cell_type": "code",
   "execution_count": 11,
   "id": "a053c30c",
   "metadata": {},
   "outputs": [],
   "source": [
    "n = 2       # number of input qubits\n",
    "s = '10'    # the binary hidden shift string"
   ]
  },
  {
   "cell_type": "code",
   "execution_count": 12,
   "id": "fab303a5",
   "metadata": {},
   "outputs": [],
   "source": [
    "def oracle_f(n):\n",
    "    \"\"\"Oracle f\"\"\"\n",
    "    oracle_f = QuantumCircuit(n)\n",
    "    \n",
    "    # Implement F(x) = (-1)^f(x)\n",
    "    # x·y corresponds to controlled-z gates between first half qubits and second half qubits\n",
    "    for i in range(int(n/2)):\n",
    "        oracle_f.cz(i,i+int(n/2))\n",
    "    \n",
    "    # h(x) in this case is simply the z gate on the first qubit\n",
    "    oracle_f.z(0)\n",
    "    \n",
    "    oracle_f.name = 'Oracle f'\n",
    "    return oracle_f.to_gate()\n",
    "\n",
    "def oracle_g(n, s):\n",
    "    \"\"\"Oracle g\"\"\"\n",
    "    oracle_g = QuantumCircuit(n)\n",
    "    oracle_g.compose(shift_s(n, s), inplace=True)    # shift the inputs\n",
    "    oracle_g.append(oracle_f(n), range(n))           # apply the oracle f\n",
    "    oracle_g.compose(shift_s(n, s), inplace=True)    # return the inputs\n",
    "    oracle_g.name = 'Oracle g'\n",
    "    return oracle_g.to_gate()"
   ]
  },
  {
   "cell_type": "code",
   "execution_count": 13,
   "id": "7de33347",
   "metadata": {},
   "outputs": [
    {
     "data": {
      "image/png": "[encoded data removed]",
      "text/plain": [
       "<Figure size 1350.8x385.28 with 1 Axes>"
      ]
     },
     "execution_count": 13,
     "metadata": {},
     "output_type": "execute_result"
    }
   ],
   "source": [
    "# Implement the Fourier-transform-free algorithm\n",
    "hsp_circuit = QuantumCircuit(2*n+1, n+1)\n",
    "\n",
    "# Apply Hadamard gates to make superposition\n",
    "for i in range(2*n+1):\n",
    "    hsp_circuit.h(i)\n",
    "hsp_circuit.barrier()    # barrier is for visual separation\n",
    "\n",
    "# Apply controlled-x gates from the second register to the third register\n",
    "for i in range(n):\n",
    "    hsp_circuit.cx(i+1, i+n+1)\n",
    "hsp_circuit.barrier()\n",
    "\n",
    "# Apply the oracle g according to the control qubit\n",
    "hsp_circuit.append(oracle_g(n, s).control(), \n",
    "             [0] + [n+i+1 for i in range(n)])\n",
    "hsp_circuit.barrier()\n",
    "\n",
    "# Wrap up the control qubit with x gates to perform uncontrolled-oracle f\n",
    "hsp_circuit.x(0)\n",
    "hsp_circuit.append(oracle_f(n).control(), \n",
    "             [0] + [n+i+1 for i in range(n)])\n",
    "hsp_circuit.x(0)\n",
    "hsp_circuit.barrier()\n",
    "\n",
    "# Apply controlled-x gates again\n",
    "for i in range(n):\n",
    "    hsp_circuit.cx(i+1, i+n+1)\n",
    "hsp_circuit.barrier()\n",
    "\n",
    "# Apply Hadamard gates to perform a boolean Fourier transform\n",
    "for i in range(2*n+1):\n",
    "    hsp_circuit.h(i)\n",
    "hsp_circuit.barrier()\n",
    "\n",
    "# Measure all qubits\n",
    "for i in range(n+1):\n",
    "    hsp_circuit.measure(i, i)\n",
    "\n",
    "# Display circuit\n",
    "hsp_circuit.draw('mpl')"
   ]
  },
  {
   "cell_type": "markdown",
   "id": "8d334e72",
   "metadata": {},
   "source": [
    "### 4.1 Experiment with Simulators <a id='ftfa-simulation'> </a>\n",
    "\n",
    "We can run the above circuit on the simulator. "
   ]
  },
  {
   "cell_type": "code",
   "execution_count": 14,
   "id": "512d4a2a",
   "metadata": {
    "scrolled": true
   },
   "outputs": [
    {
     "data": {
      "image/png": "[encoded data removed]",
      "text/plain": [
       "<Figure size 504x360 with 1 Axes>"
      ]
     },
     "execution_count": 14,
     "metadata": {},
     "output_type": "execute_result"
    }
   ],
   "source": [
    "# use local simulator\n",
    "aer_sim = Aer.get_backend('aer_simulator')\n",
    "transpiled_hsp_circuit = transpile(hsp_circuit, aer_sim)\n",
    "qobj = assemble(transpiled_hsp_circuit, aer_sim)\n",
    "results = aer_sim.run(qobj).result()\n",
    "answer = results.get_counts()\n",
    "\n",
    "plot_histogram(answer)"
   ]
  },
  {
   "cell_type": "markdown",
   "id": "18b86cab",
   "metadata": {},
   "source": [
    "Now we see that there are 4 different results. Checking an inner product $\\left<s, 1 \\mid a \\right>$, the outcome lists as below:\n",
    "\n",
    "| $$(s,1)$$ | $$a$$ | $$\\left<s, 1 \\mid a \\right>$$ |\n",
    "|:---:|:---:|:-----:|\n",
    "| 101 | 000 |   0   |\n",
    "| 101 | 010 |   0   |\n",
    "| 101 | 101 | 1+1=0 |\n",
    "| 101 | 111 | 1+1=0 |\n",
    "\n",
    "Note that we can retrieve $s$ as soon as we get two different outcomes except for all zeros. For example, when we get two linearly independent states $\\left| 010 \\right>$ and $\\left| 101 \\right>$, we can compute $s$ from them:\n",
    "\n",
    "$$\n",
    "\\begin{cases}\n",
    "    \\left<s \\mid 01 \\right> = s_2 = 0 \\\\\n",
    "    \\left<s \\mid 10 \\right> = s_1 = 1\n",
    "\\end{cases}\n",
    "\\quad \\therefore \\left| s \\right> = \\left| s_1 s_2 \\right> = \\left| 10 \\right>\n",
    "$$"
   ]
  },
  {
   "cell_type": "markdown",
   "id": "bc6ed6fd",
   "metadata": {},
   "source": [
    "### 3.2 Experiment with Real Devices <a id='ftfa-device'> </a>\n",
    "\n",
    "We can run the circuit on the real device as below."
   ]
  },
  {
   "cell_type": "code",
   "execution_count": 15,
   "id": "db3d2c85",
   "metadata": {},
   "outputs": [
    {
     "name": "stdout",
     "output_type": "stream",
     "text": [
      "least busy backend:  ibmq_lima\n"
     ]
    }
   ],
   "source": [
    "# Load our saved IBMQ accounts and get the least busy backend device with more than or equal to 2*n+1 qubits\n",
    "IBMQ.load_account()\n",
    "provider = IBMQ.get_provider('ibm-q')\n",
    "provider.backends()\n",
    "backend = least_busy(provider.backends(filters=lambda x:\n",
    "                                       int(x.configuration().n_qubits) <= 4*(2*n+1)\n",
    "                                       and int(x.configuration().n_qubits) >= 2*n+1\n",
    "                                       and not x.configuration().simulator\n",
    "                                       and x.status().operational==True))\n",
    "print(\"least busy backend: \", backend)"
   ]
  },
  {
   "cell_type": "code",
   "execution_count": 16,
   "id": "9ceb5798",
   "metadata": {},
   "outputs": [
    {
     "name": "stdout",
     "output_type": "stream",
     "text": [
      "Job Status: job has successfully run\n"
     ]
    }
   ],
   "source": [
    "# Run our circuit on the least busy backend. Monitor the execution of the job in the queue\n",
    "from qiskit.tools.monitor import job_monitor\n",
    "\n",
    "shots = 1024\n",
    "transpiled_hsp_circuit = transpile(hsp_circuit, backend)\n",
    "job = backend.run(transpiled_hsp_circuit, shots=shots)\n",
    "\n",
    "job_monitor(job, interval=2)"
   ]
  },
  {
   "cell_type": "code",
   "execution_count": 17,
   "id": "4ad556d5",
   "metadata": {},
   "outputs": [
    {
     "data": {
      "image/png": "[encoded data removed]",
      "text/plain": [
       "<Figure size 504x360 with 1 Axes>"
      ]
     },
     "execution_count": 17,
     "metadata": {},
     "output_type": "execute_result"
    }
   ],
   "source": [
    "# Get the results from the computation\n",
    "results = job.result()\n",
    "answer = results.get_counts()\n",
    "\n",
    "plot_histogram(answer)"
   ]
  },
  {
   "cell_type": "markdown",
   "id": "21ddc741",
   "metadata": {},
   "source": [
    "In this case, however, we find that desired outputs are not distinguishable from the noise. The error correction or the error mitigation is the major area of study for quantum researchers who are aiming to tackle this kind of issues."
   ]
  },
  {
   "cell_type": "markdown",
   "id": "ef364270",
   "metadata": {},
   "source": [
    "## 4. Problems <a id='problems'> </a>\n",
    "\n",
    "The function `hsp_oracle` below takes an integer `seed`, and booleans `shifted` and `fourier_transformed`. It will return the boolean fucntion oracle with the input size 6. Use the hidden shift algorithm for the boolean bent function to find out the hidden shift $s$."
   ]
  },
  {
   "cell_type": "code",
   "execution_count": 18,
   "id": "bc68e20d",
   "metadata": {},
   "outputs": [
    {
     "data": {
      "image/png": "[encoded data removed]",
      "text/plain": [
       "<Figure size 327.397x385.28 with 1 Axes>"
      ]
     },
     "execution_count": 18,
     "metadata": {},
     "output_type": "execute_result"
    }
   ],
   "source": [
    "from problems import hsp_oracle\n",
    "# Example usage\n",
    "n = 6\n",
    "seed = 137\n",
    "oracle_f = hsp_oracle(seed, shifted=False, fourier_transformed=False)\n",
    "oracle_g = hsp_oracle(seed, shifted=True, fourier_transformed=False)\n",
    "qc = QuantumCircuit(n)\n",
    "qc.append(oracle_f, range(n))\n",
    "qc.append(oracle_g, range(n))\n",
    "qc.draw('mpl')"
   ]
  },
  {
   "cell_type": "markdown",
   "id": "5964e638",
   "metadata": {},
   "source": [
    "1. Solve the hidden shift problem for the boolean bent function using the super oracle $O_\\tilde{f}$."
   ]
  },
  {
   "cell_type": "code",
   "execution_count": null,
   "id": "751f1c2c",
   "metadata": {},
   "outputs": [],
   "source": [
    "hsp_circuit = QuantumCircuit(n)\n",
    "\n",
    "####################\n",
    "# Your codes Here\n",
    "\n",
    "####################\n",
    "\n",
    "# Display circuit\n",
    "hsp_circuit.draw('mpl')"
   ]
  },
  {
   "cell_type": "code",
   "execution_count": null,
   "id": "c2670715",
   "metadata": {},
   "outputs": [],
   "source": [
    "# Check the result\n",
    "aer_sim = Aer.get_backend('aer_simulator')\n",
    "transpiled_hsp_circuit = transpile(hsp_circuit, aer_sim)\n",
    "qobj = assemble(transpiled_hsp_circuit, aer_sim)\n",
    "results = aer_sim.run(qobj).result()\n",
    "answer = results.get_counts()\n",
    "\n",
    "plot_histogram(answer)"
   ]
  },
  {
   "cell_type": "markdown",
   "id": "fd5daf5f",
   "metadata": {},
   "source": [
    "2. Solve the hidden shift problem for the boolean bent function not using the $O_\\tilde{f}$"
   ]
  },
  {
   "cell_type": "code",
   "execution_count": null,
   "id": "0d8053ae",
   "metadata": {},
   "outputs": [],
   "source": [
    "hsp_circuit = QuantumCircuit(2*n+1)\n",
    "\n",
    "####################\n",
    "# Your codes Here\n",
    "\n",
    "####################\n",
    "\n",
    "# Display circuit\n",
    "hsp_circuit.draw('mpl')"
   ]
  },
  {
   "cell_type": "code",
   "execution_count": null,
   "id": "95bb772b",
   "metadata": {},
   "outputs": [],
   "source": [
    "# Check the result\n",
    "aer_sim = Aer.get_backend('aer_simulator')\n",
    "transpiled_hsp_circuit = transpile(hsp_circuit, aer_sim)\n",
    "qobj = assemble(transpiled_hsp_circuit, aer_sim)\n",
    "results = aer_sim.run(qobj).result()\n",
    "answer = results.get_counts()\n",
    "\n",
    "plot_histogram(answer)"
   ]
  },
  {
   "cell_type": "markdown",
   "id": "c9a35568",
   "metadata": {},
   "source": [
    "## 5. References <a id='references'> </a>\n",
    "\n",
    "1. M. Roetteler (2008), \"Quantum algorithms for highly non-linear Boolean functions\", Proceedings of the 21st Annual ACM-SIAM Symposium on Discrete Algorithms (SODA'10), pp. 448-457, [arXiv:0811.3208](https://arxiv.org/abs/0811.3208) [quant-ph]\n",
    "2. G. Kuperberg (2005), \"A subexponential-time quantum algorithm for the dihedral hidden subgroup problem\", SIAM Journal on Computing, 35(1), pp. 170-188, [doi:10.1137/S0097539703436345](https://doi.org/10.1137/S0097539703436345), [arXiv:quant-ph/0302112](https://arxiv.org/abs/quant-ph/0302112)\n",
    "3. X. Bonnetain & M. Naya-Plasencia (2018), \"Hidden Shift Quantum Cryptanalysis and Implications\", In: T. Peyrin , S. Galbraith (eds) Advances in Cryptology – ASIACRYPT 2018, Lecture Notes in Computer Science, vol 11272, Springer, Cham, [doi:10.1007/978-3-030-03326-2_19](https://doi.org/10.1007/978-3-030-03326-2_19)\n",
    "4. K. Wright, K. M. Beck, S. Debnath et al. (2019), \"Benchmarking an 11-qubit quantum computer\", Nat Commun 10, 5464, [doi:10.1038/s41467-019-13534-2](https://doi.org/10.1038/s41467-019-13534-2)\n",
    "5. S. Bravyi & D. Gosset (2016), \"Improved classical simulation of quantum circuits dominated by Clifford gates\", Phys. Rev. Lett. 116, 250501, [doi:10.1103/PhysRevLett.116.250501](https://doi.org/10.1103/PhysRevLett.116.250501), [arXiv:1601.07601](https://arxiv.org/abs/1601.07601) [quant-ph]"
   ]
  },
  {
   "cell_type": "code",
   "execution_count": null,
   "id": "bde320da",
   "metadata": {},
   "outputs": [],
   "source": []
  }
 ],
 "metadata": {
  "kernelspec": {
   "display_name": "Python 3 (ipykernel)",
   "language": "python",
   "name": "python3"
  },
  "language_info": {
   "codemirror_mode": {
    "name": "ipython",
    "version": 3
   },
   "file_extension": ".py",
   "mimetype": "text/x-python",
   "name": "python",
   "nbconvert_exporter": "python",
   "pygments_lexer": "ipython3",
   "version": "3.9.11"
  }
 },
 "nbformat": 4,
 "nbformat_minor": 5
}
