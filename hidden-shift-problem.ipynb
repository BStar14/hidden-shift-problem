{
 "cells": [
  {
   "cell_type": "markdown",
   "id": "ade8e984",
   "metadata": {},
   "source": [
    "# Hidden Shift Problem"
   ]
  },
  {
   "cell_type": "markdown",
   "id": "fd53d995",
   "metadata": {},
   "source": [
    "In this notebook, we first introduce the hidden shift problem, and classical and quantum algorithms to solve it. We then implement the quantum algorithm using Qiskit, and run it on a simulator and device.\n",
    "\n",
    "## Contents\n",
    "\n",
    "1. [The Hidden Shift Problem](#hsp)    \n",
    "   1.1 [The Hidden Shift Problem](#problem)    \n",
    "   1.2 [The Classical Solution](#classical-solution)    \n",
    "   1.3 [The Quantum Solution](#quantum-solution) \n",
    "2. [Example](#example)\n",
    "3. [Qiskit Implementation](#implementation)     \n",
    "   3.1 [Simulation](#simulation)     \n",
    "   3.2 [Device](#device)     \n",
    "4. [Problems](#problems)\n",
    "5. [Breaking Poly1305 Encryption](#poly1305)\n",
    "6. [References](#references)"
   ]
  },
  {
   "cell_type": "markdown",
   "id": "95f6bf02",
   "metadata": {},
   "source": [
    "## 1. The Hidden Shift Problem <a id='hsp'> </a>\n",
    "\n",
    "The hidden shift problem is an oracle-based problem where the quantum solution shows exponential speedup. We can model some generally used cryptosystems like Poly1305 and CSIDH by the hidden shift problem, and it is also employed to benchmark quantum computers and classical simulators.\n",
    "\n",
    "### 1.1 The Hidden Shift Problem <a id='problem'> </a>\n",
    "\n",
    "Suppose two functions $f$ and $g$ with a relation $g(x)=f(x \\oplus s)$, for some n-bit string $s$. Given an oracle $O$ that encodes $f$ and $g$, how can we find $s$ while accessing the oracle as little as possible?"
   ]
  },
  {
   "cell_type": "markdown",
   "id": "178a469a",
   "metadata": {},
   "source": [
    "### 1.2 The Classical Solution <a id='classical-solution'> </a>\n"
   ]
  },
  {
   "cell_type": "markdown",
   "id": "f44d0c15",
   "metadata": {},
   "source": [
    "### 1.3 The Quantum Solution <a id='quantum-solution'> </a>\n",
    "\n",
    "1. Initialize the inputs qubits to the $|0\\rangle^{\\otimes n}$ state.\n",
    "2. Apply Hadamard gates to the input register.\n",
    "3. Query the oracle $O_{f'}$.\n",
    "4. Apply Hadamard gates to the input register.\n",
    "5. Query the oracle $O_{\\tilde{f}}$.\n",
    "6. Apply Hadamard gates to the input register.\n",
    "7. Measure.\n",
    "\n",
    "We denote by $f'(x)=f(x\\oplus s)$.\n",
    "The oracles $O_{f'}$ and $O_{\\tilde{f}}$ flip phases of input state, $|x\\rangle$, if the image of functions $f'$ and $\\tilde{f}$ are $-1$ respectively. I.e., $O_{f'}|x\\rangle=f'(x)|x\\rangle$ and $O_{f'}|x\\rangle=\\tilde{f}(x)|x\\rangle$.\n",
    "\n",
    "Note that \n",
    "$$\n",
    "|y\\rangle \\xrightarrow{H^{\\otimes n}} \\frac{1}{\\sqrt{2^n}} \\sum_{x\\in \\{0,1\\}^n} (-1)^{x\\cdot y}|x\\rangle.\n",
    "$$\n",
    "\n",
    "<details>\n",
    "    <summary>Explain Equation (Click to Expand)</summary>\n",
    "\n",
    "Let $|y\\rangle=|y_1\\rangle\\otimes|y_2\\rangle\\otimes\\;\\dotsm\\;\\otimes|y_n\\rangle$.\n",
    "    \n",
    "We have $H|0\\rangle=\\frac{1}{\\sqrt{2}}(|0\\rangle +|1\\rangle)$ and $H|1\\rangle=\\frac{1}{\\sqrt{2}}(|0\\rangle -|1\\rangle)$.\n",
    "    \n",
    "Then, \n",
    "$$\n",
    "H^{\\otimes n}|y\\rangle=H|y_1\\rangle\\otimes H|y_2\\rangle\\otimes\\;\\dotsm\\;\\otimes H|y_n\\rangle\n",
    "$$\n",
    "\n",
    "$$\n",
    "=\\sum_{x_1 =0}^1 \\frac{(-1)^{x_1 \\cdot y_1}}{\\sqrt{2}}|x_1\\rangle\\otimes\\sum_{x_2 =0}^1 \\frac{(-1)^{x_2 \\cdot y_2}}{\\sqrt{2}}|x_2\\rangle\\;\\otimes\\dotsm\\;\\otimes\\sum_{x_n =0}^1 \\frac{(-1)^{x_n \\cdot y_n}}{\\sqrt{2}}|x_n\\rangle \n",
    "$$\n",
    "    \n",
    "$$\n",
    "=\\sum_{x\\in\\{0,1\\}^n}(-1)^{x_1 \\cdot y_1 +\\dotsm+x_n\\cdot y_n}|x\\rangle\n",
    "$$\n",
    "</details>\n",
    "\n",
    "1. Initialize the inputs qubits to the $|0\\rangle^{\\otimes n}$ state.\n",
    "\n",
    "\n",
    "2. Apply Hadamard gates to the input register.\n",
    "$$\n",
    "H^{\\otimes n}|00\\dotsm 0\\rangle=\\frac{1}{\\sqrt{2^n}} \\sum_{x\\in \\{0,1\\}^n} |x\\rangle\n",
    "$$\n",
    "\n",
    "\n",
    "3. Query the oracle $O_{f'}$.\n",
    "$$\n",
    "O_{f'}\\frac{1}{\\sqrt{2^n}} \\sum_{x\\in \\{0,1\\}^n} |x\\rangle=\\frac{1}{\\sqrt{2^n}}\\sum_{x\\in \\{0,1\\}^n}f(x\\oplus s)|x\\rangle\\quad\\quad  (\\because f'(x)=f(x\\oplus s))\n",
    "$$\n",
    "\n",
    "\n",
    "4. Apply Hadamard gates to the input register.\n",
    "$$\n",
    "H^{\\otimes n}\\frac{1}{\\sqrt{2^n}}\\sum_{x\\in \\{0,1\\}^n}f(x\\oplus s)|x\\rangle=\\sum_{y\\in \\{0,1\\}^n}(\\sum_{x\\in \\{0,1\\}^n}(-1)^{x\\cdot y}f(x\\oplus s))|y\\rangle \\\\\n",
    "=\\sum_{y\\in \\{0,1\\}^n}\\{\\sum_{x\\in \\{0,1\\}^n}(-1)^{x\\cdot y\\oplus(s\\cdot y \\oplus s\\cdot y)}f(x \\oplus s)\\}|y\\rangle \\\\\n",
    "=\\sum_{y\\in \\{0,1\\}^n}\\{\\sum_{x\\in \\{0,1\\}^n}(-1)^{(x\\cdot y \\oplus s\\cdot y) \\oplus s\\cdot y}f(x \\oplus s)\\}|y\\rangle \\\\\n",
    "=\\sum_{y\\in \\{0,1\\}^n}(-1)^{s \\cdot y}\\{\\sum_{x\\in \\{0,1\\}^n}(-1)^{(x\\oplus s)\\cdot y}f(x \\oplus s)\\}|y\\rangle\n",
    "$$\n",
    "\n",
    "Rewrite $x\\oplus s$ as $x$. We get\n",
    "$$\n",
    "=\\sum_{y\\in \\{0,1\\}^n}(-1)^{s \\cdot y}\\{\\sum_{x\\in \\{0,1\\}^n}(-1)^{x\\cdot y}f(x)\\}|y\\rangle\n",
    "$$\n",
    "\n",
    "\n",
    "5. Query the oracle $O_{\\tilde{f}}$."
   ]
  },
  {
   "cell_type": "markdown",
   "id": "130e6b76",
   "metadata": {},
   "source": [
    "## 2. Example <a id='example'> </a>\n",
    "\n",
    "Let's go through a specific example of the hidden shift algorithm for the case $n=4$ and $s=2$. In order to make the oracle simple we could employ the Maiorana-McFarland function:\n",
    "\n",
    "$$\n",
    "f(x,y) = (-1)^{g(x)+y\\cdot x} \n",
    "$$\n",
    "\n",
    "1. Apply Hadamard gate on all qubits.\n",
    "\n",
    "2. For the string $s=0010$, the first part of quamtum oracle performs the shift opeartion.\n",
    "\n",
    "3. For any Boolean function $g(x)$, $O_{g} = (-1)^{g(x)}$. This coud be implemented by CZ gate."
   ]
  },
  {
   "cell_type": "markdown",
   "id": "029899df",
   "metadata": {},
   "source": [
    "## 3. Qiskit Implementation <a id='implementation'> </a>\n",
    "\n",
    "We'll now walk through the hidden-shift algorithm implementation in Qiskit for a six bit string $s=100101$. We first set the number of qubits used in the experiment, and the hidden bit string $s$ to be found by the algorithm. The hidden bit string $s$ together with the function $f$ determines the circuit for the quantum oracle."
   ]
  },
  {
   "cell_type": "code",
   "execution_count": 1,
   "id": "14b48eb8",
   "metadata": {},
   "outputs": [],
   "source": [
    "# initialization\n",
    "import matplotlib.pyplot as plt\n",
    "import numpy as np\n",
    "\n",
    "# importing Qiskit\n",
    "from qiskit import Aer, QuantumCircuit, transpile, assemble\n",
    "\n",
    "# import basic plot tools\n",
    "from qiskit.visualization import plot_histogram"
   ]
  },
  {
   "cell_type": "markdown",
   "id": "eba1509b",
   "metadata": {},
   "source": [
    "We first set the number of qubits used in the experiment, and the hidden bit string $s$ to be found by the algorithm."
   ]
  },
  {
   "cell_type": "code",
   "execution_count": 2,
   "id": "8c5c0b96",
   "metadata": {},
   "outputs": [],
   "source": [
    "n = 6            # number of input qubits\n",
    "s = '100101'    # the hidden shifting binary string"
   ]
  },
  {
   "cell_type": "markdown",
   "id": "a4780cdf",
   "metadata": {},
   "source": [
    "We then use Qiskit to program the oracle.\n",
    "\n",
    "![circuit_fig](images/tentative_fig1.png)"
   ]
  },
  {
   "cell_type": "code",
   "execution_count": 3,
   "id": "95930e45",
   "metadata": {},
   "outputs": [
    {
     "data": {
      "image/png": "[encoded data removed]",
      "text/plain": [
       "<Figure size 327.397x204.68 with 1 Axes>"
      ]
     },
     "execution_count": 3,
     "metadata": {},
     "output_type": "execute_result"
    }
   ],
   "source": [
    "# Oracle g\n",
    "def oracle_g(n):\n",
    "    oracle_g = QuantumCircuit(int(n/2))\n",
    "    oracle_g.h(2)\n",
    "    oracle_g.ccx(0,1,2)\n",
    "    oracle_g.h(2)\n",
    "    oracle_g.cz(0,1)\n",
    "    oracle_g.z(0)\n",
    "    oracle_g.name = 'Og'\n",
    "    return oracle_g\n",
    "\n",
    "oracle_g(n).draw('mpl')"
   ]
  },
  {
   "cell_type": "code",
   "execution_count": 4,
   "id": "72a3693e",
   "metadata": {},
   "outputs": [
    {
     "data": {
      "image/png": "[encoded data removed]",
      "text/plain": [
       "<Figure size 146.797x385.28 with 1 Axes>"
      ]
     },
     "execution_count": 4,
     "metadata": {},
     "output_type": "execute_result"
    }
   ],
   "source": [
    "# Shifting operation\n",
    "def shift_s(n, s):\n",
    "    shift_s = QuantumCircuit(n)\n",
    "    s = s[::-1]    # reverse s to fit qiskit's qubit ordering\n",
    "    for i in range(n):\n",
    "        if s[i] == '0':\n",
    "            continue\n",
    "        else:\n",
    "            shift_s.x(i)\n",
    "    shift_s.name = 'S(x)'\n",
    "    return shift_s\n",
    "\n",
    "shift_s(n, s).draw('mpl')"
   ]
  },
  {
   "cell_type": "code",
   "execution_count": 5,
   "id": "e36506f8",
   "metadata": {},
   "outputs": [
    {
     "data": {
      "image/png": "[encoded data removed]",
      "text/plain": [
       "<Figure size 628.397x385.28 with 1 Axes>"
      ]
     },
     "execution_count": 5,
     "metadata": {},
     "output_type": "execute_result"
    }
   ],
   "source": [
    "# Oracle shifted_f\n",
    "def oracle_shifted_f(n):\n",
    "    oracle_shifted_f = QuantumCircuit(n)\n",
    "    oracle_shifted_f.append(shift_s(n, s), qargs=range(n))\n",
    "    oracle_shifted_f.barrier()\n",
    "    oracle_shifted_f.append(oracle_g(n), qargs=[0,1,2])\n",
    "    oracle_shifted_f.barrier()\n",
    "    for i in range(int(n/2)):\n",
    "        oracle_shifted_f.cz(i,i+3)\n",
    "    oracle_shifted_f.barrier()\n",
    "    oracle_shifted_f.append(shift_s(n, s), qargs=range(n))\n",
    "    oracle_shifted_f.name = 'shifted f'\n",
    "    return oracle_shifted_f\n",
    "\n",
    "oracle_shifted_f(n).draw('mpl')"
   ]
  },
  {
   "cell_type": "code",
   "execution_count": 6,
   "id": "d1cd0c6b",
   "metadata": {},
   "outputs": [
    {
     "data": {
      "image/png": "[encoded data removed]",
      "text/plain": [
       "<Figure size 387.597x385.28 with 1 Axes>"
      ]
     },
     "execution_count": 6,
     "metadata": {},
     "output_type": "execute_result"
    }
   ],
   "source": [
    "# Oracle fourier_f\n",
    "def oracle_fourier_f(n):\n",
    "    oracle_fourier_f = QuantumCircuit(n)\n",
    "    oracle_fourier_f.append(oracle_g(n), qargs=[3,4,5])\n",
    "    oracle_fourier_f.barrier()\n",
    "    for i in range(int(n/2)):\n",
    "        oracle_fourier_f.cz(i,i+3)\n",
    "    oracle_fourier_f.name = 'fourier f'\n",
    "    return oracle_fourier_f\n",
    "\n",
    "oracle_fourier_f(n).draw('mpl')"
   ]
  },
  {
   "cell_type": "markdown",
   "id": "901f742b",
   "metadata": {},
   "source": [
    "Then we use implement the actual algorithm."
   ]
  },
  {
   "cell_type": "code",
   "execution_count": 7,
   "id": "2e0a676f",
   "metadata": {},
   "outputs": [
    {
     "data": {
      "image/png": "[encoded data removed]",
      "text/plain": [
       "<Figure size 1170.2x445.48 with 1 Axes>"
      ]
     },
     "execution_count": 7,
     "metadata": {},
     "output_type": "execute_result"
    }
   ],
   "source": [
    "hsp_circuit = QuantumCircuit(n, n)\n",
    "\n",
    "for i in range(n):\n",
    "    hsp_circuit.h(i)\n",
    "hsp_circuit.barrier()\n",
    "hsp_circuit.append(oracle_shifted_f(n), range(n))\n",
    "hsp_circuit.barrier()\n",
    "for i in range(n):\n",
    "    hsp_circuit.h(i)\n",
    "hsp_circuit.barrier()\n",
    "hsp_circuit.append(oracle_fourier_f(n), range(n))\n",
    "hsp_circuit.barrier()\n",
    "for i in range(n):\n",
    "    hsp_circuit.h(i)\n",
    "hsp_circuit.barrier()\n",
    "for i in range(n):\n",
    "    hsp_circuit.measure(i, i)\n",
    "\n",
    "hsp_circuit.draw('mpl')"
   ]
  },
  {
   "cell_type": "markdown",
   "id": "f2f0ca38",
   "metadata": {},
   "source": [
    "### 3a. Experiment with Simulators  <a id='simulation'></a>\n",
    "\n",
    "We can run the above circuit on the simulator. "
   ]
  },
  {
   "cell_type": "code",
   "execution_count": 8,
   "id": "a611ed25",
   "metadata": {
    "scrolled": true
   },
   "outputs": [
    {
     "data": {
      "image/png": "[encoded data removed]",
      "text/plain": [
       "<Figure size 504x360 with 1 Axes>"
      ]
     },
     "execution_count": 8,
     "metadata": {},
     "output_type": "execute_result"
    }
   ],
   "source": [
    "# use local simulator\n",
    "aer_sim = Aer.get_backend('aer_simulator')\n",
    "transpiled_circ = transpile(hsp_circuit, aer_sim)\n",
    "qobj = assemble(transpiled_circ, aer_sim)\n",
    "results = aer_sim.run(qobj).result()\n",
    "answer = results.get_counts()\n",
    "\n",
    "plot_histogram(answer)"
   ]
  },
  {
   "cell_type": "markdown",
   "id": "8104275e",
   "metadata": {},
   "source": [
    "We can see that the result of the measurement is the hidden string 100101."
   ]
  },
  {
   "cell_type": "markdown",
   "id": "ef364270",
   "metadata": {},
   "source": [
    "## 4. Problems <a id='problems'> </a>"
   ]
  },
  {
   "cell_type": "markdown",
   "id": "ef38b533",
   "metadata": {},
   "source": [
    "## 5. Breaking Poly1305 Encryption <a id=\"poly1305\"> </a>"
   ]
  },
  {
   "cell_type": "markdown",
   "id": "83f7922b",
   "metadata": {},
   "source": []
  },
  {
   "cell_type": "markdown",
   "id": "c9a35568",
   "metadata": {},
   "source": [
    "## 6. References <a id='references'> </a>\n",
    "\n",
    "1. S. Bravyi & D. Gosset (2016), \"Improved classical simulation of quantum circuits dominated by Clifford gates\", Phys. Rev. Lett. 116, 250501, [doi:10.1103/PhysRevLett.116.250501](https://doi.org/10.1103/PhysRevLett.116.250501), [arXiv:1601.07601](https://arxiv.org/abs/1601.07601) [quant-ph]\n",
    "2. M. Roetteler (2008), \"Quantum algorithms for highly non-linear Boolean functions\", Proceedings of the 21st Annual ACM-SIAM Symposium on Discrete Algorithms (SODA'10), pp. 448-457, [arXiv:0811.3208](https://arxiv.org/abs/0811.3208) [quant-ph]\n",
    "3. X. Bonnetain & M. Naya-Plasencia (2018), \"Hidden Shift Quantum Cryptanalysis and Implications\", In: T. Peyrin , S. Galbraith (eds) Advances in Cryptology – ASIACRYPT 2018, Lecture Notes in Computer Science, vol 11272, Springer, Cham, [doi:10.1007/978-3-030-03326-2_19](https://doi.org/10.1007/978-3-030-03326-2_19)\n",
    "4. K. Wright, K. M. Beck, S. Debnath et al. (2019), \"Benchmarking an 11-qubit quantum computer\", Nat Commun 10, 5464, [doi:10.1038/s41467-019-13534-2](https://doi.org/10.1038/s41467-019-13534-2)"
   ]
  },
  {
   "cell_type": "code",
   "execution_count": null,
   "id": "bde320da",
   "metadata": {},
   "outputs": [],
   "source": []
  }
 ],
 "metadata": {
  "kernelspec": {
   "display_name": "Python 3 (ipykernel)",
   "language": "python",
   "name": "python3"
  },
  "language_info": {
   "codemirror_mode": {
    "name": "ipython",
    "version": 3
   },
   "file_extension": ".py",
   "mimetype": "text/x-python",
   "name": "python",
   "nbconvert_exporter": "python",
   "pygments_lexer": "ipython3",
   "version": "3.9.7"
  }
 },
 "nbformat": 4,
 "nbformat_minor": 5
}
