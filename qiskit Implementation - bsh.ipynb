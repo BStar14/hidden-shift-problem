{
 "cells": [
  {
   "cell_type": "markdown",
   "id": "9f3a7d06",
   "metadata": {},
   "source": [
    "# Intro\n",
    "\n",
    "We'll now walk through the hidden-shift algorithm implementation in Qiskit for a four bit function with $s=0000$. We first set the number of qubits used in the experiment, and the hidden bit string $s$ to be found by the algorithm. The hidden bit string $s$ determines the circuit for the quantum oracle."
   ]
  },
  {
   "cell_type": "code",
   "execution_count": null,
   "id": "eddde0b4",
   "metadata": {},
   "outputs": [],
   "source": [
    "# Delete me later.\n",
    "'''# Importing Qiskit and IonQ accounts\n",
    "from qiskit import IBMQ\n",
    "\n",
    "# Loading your IBM Quantum and IonQ accounts\n",
    "# IBMQ.save_account('token')\n",
    "IBMQ.load_account()\n",
    "ibmq_provider = IBMQ.get_provider('ibm-q-skku','yonsei-uni','yu-students')'''"
   ]
  },
  {
   "cell_type": "code",
   "execution_count": null,
   "id": "b3101ee2",
   "metadata": {},
   "outputs": [],
   "source": [
    "# Delete me later.\n",
    "'''import numpy as np\n",
    "from qiskit import Aer, QuantumCircuit, transpile, assemble\n",
    "from qiskit.visualization import plot_histogram\n",
    "import matplotlib.pyplot as plt'''"
   ]
  },
  {
   "cell_type": "code",
   "execution_count": 1,
   "id": "452538ef",
   "metadata": {},
   "outputs": [
    {
     "ename": "ModuleNotFoundError",
     "evalue": "No module named 'qiskit'",
     "output_type": "error",
     "traceback": [
      "\u001b[1;31m---------------------------------------------------------------------------\u001b[0m",
      "\u001b[1;31mModuleNotFoundError\u001b[0m                       Traceback (most recent call last)",
      "\u001b[1;32m~\\AppData\\Local\\Temp/ipykernel_13268/120214290.py\u001b[0m in \u001b[0;36m<module>\u001b[1;34m\u001b[0m\n\u001b[0;32m      3\u001b[0m \u001b[1;33m\u001b[0m\u001b[0m\n\u001b[0;32m      4\u001b[0m \u001b[1;31m# importing Qiskit\u001b[0m\u001b[1;33m\u001b[0m\u001b[1;33m\u001b[0m\u001b[0m\n\u001b[1;32m----> 5\u001b[1;33m \u001b[1;32mfrom\u001b[0m \u001b[0mqiskit\u001b[0m \u001b[1;32mimport\u001b[0m \u001b[0mIBMQ\u001b[0m\u001b[1;33m,\u001b[0m \u001b[0mAer\u001b[0m\u001b[1;33m\u001b[0m\u001b[1;33m\u001b[0m\u001b[0m\n\u001b[0m\u001b[0;32m      6\u001b[0m \u001b[1;32mfrom\u001b[0m \u001b[0mqiskit\u001b[0m\u001b[1;33m.\u001b[0m\u001b[0mproviders\u001b[0m\u001b[1;33m.\u001b[0m\u001b[0mibmq\u001b[0m \u001b[1;32mimport\u001b[0m \u001b[0mleast_busy\u001b[0m\u001b[1;33m\u001b[0m\u001b[1;33m\u001b[0m\u001b[0m\n\u001b[0;32m      7\u001b[0m \u001b[1;32mfrom\u001b[0m \u001b[0mqiskit\u001b[0m \u001b[1;32mimport\u001b[0m \u001b[0mAer\u001b[0m\u001b[1;33m,\u001b[0m \u001b[0mQuantumCircuit\u001b[0m\u001b[1;33m,\u001b[0m \u001b[0mtranspile\u001b[0m\u001b[1;33m,\u001b[0m \u001b[0massemble\u001b[0m\u001b[1;33m\u001b[0m\u001b[1;33m\u001b[0m\u001b[0m\n",
      "\u001b[1;31mModuleNotFoundError\u001b[0m: No module named 'qiskit'"
     ]
    }
   ],
   "source": [
    "# initialization\n",
    "import matplotlib.pyplot as plt\n",
    "\n",
    "# importing Qiskit\n",
    "from qiskit import IBMQ, Aer\n",
    "from qiskit.providers.ibmq import least_busy\n",
    "from qiskit import Aer, QuantumCircuit, transpile, assemble\n",
    "from qiskit.visualization import plot_histogram\n",
    "\n",
    "# import basic plot tools\n",
    "from qiskit.visualization import plot_histogram"
   ]
  },
  {
   "cell_type": "code",
   "execution_count": null,
   "id": "22e4d501",
   "metadata": {},
   "outputs": [],
   "source": [
    "n = 4\n",
    "s = 2"
   ]
  },
  {
   "cell_type": "markdown",
   "id": "8002ea90",
   "metadata": {},
   "source": [
    "# Assigning oracles\n",
    "\n",
    "Refer: https://qiskit.org/documentation/stubs/qiskit.circuit.QuantumCircuit.html\n",
    "QuantumCircuit(*regs, name=None, global_phase=0, metadata=None)\n",
    "\n",
    "![circuit_fig](images/tentative_fig1.png)"
   ]
  },
  {
   "cell_type": "code",
   "execution_count": null,
   "id": "bcb59089",
   "metadata": {},
   "outputs": [],
   "source": [
    "oracle_g = QuantumCircuit(int(n/2))\n",
    "oracle_g.z(0)\n",
    "\n",
    "shift_s = QuantumCircuit(n)\n",
    "if s%2 == 1:\n",
    "    shift_s.x(0)\n",
    "if s%4 - s%2 == 2:\n",
    "    shift_s.x(1)\n",
    "if s%8 - s%4 == 4:\n",
    "    shift_s.x(2)\n",
    "if s%16 - s%8 == 8:\n",
    "    shift_s.x(3)\n",
    "\n",
    "oracle_f = QuantumCircuit(n)\n",
    "oracle_f.compose(shift_s, inplace=True)\n",
    "oracle_f.barrier()\n",
    "oracle_f.compose(oracle_g, qubits=[0,1], inplace=True)\n",
    "oracle_f.barrier()\n",
    "oracle_f.cz(0,2)\n",
    "oracle_f.cz(1,3)\n",
    "oracle_f.barrier()\n",
    "oracle_f.compose(shift_s, inplace=True)\n",
    "\n",
    "oracle_sf = QuantumCircuit(n)\n",
    "oracle_sf.compose(oracle_g, qubits=[2,3], inplace=True)\n",
    "oracle_sf.barrier()\n",
    "oracle_sf.cz(0,2)\n",
    "oracle_sf.cz(1,3)"
   ]
  },
  {
   "cell_type": "markdown",
   "id": "33ea66eb",
   "metadata": {},
   "source": [
    "# Algorithm for hidden-shift problem\n",
    "\n"
   ]
  },
  {
   "cell_type": "code",
   "execution_count": null,
   "id": "05f388e8",
   "metadata": {},
   "outputs": [],
   "source": [
    "circ = QuantumCircuit(n, n)\n",
    "\n",
    "for i in range(n):\n",
    "    circ.h(i)\n",
    "circ.barrier()\n",
    "circ.compose(oracle_f, inplace=True)\n",
    "circ.barrier()\n",
    "for i in range(n):\n",
    "    circ.h(i)\n",
    "circ.barrier()\n",
    "circ.compose(oracle_sf, inplace=True)\n",
    "circ.barrier()\n",
    "for i in range(n):\n",
    "    circ.h(i)\n",
    "circ.barrier()\n",
    "for i in range(n):\n",
    "    circ.measure(i, i)"
   ]
  },
  {
   "cell_type": "code",
   "execution_count": null,
   "id": "494d7a16",
   "metadata": {},
   "outputs": [],
   "source": [
    "circ.draw('mpl')"
   ]
  },
  {
   "cell_type": "markdown",
   "id": "1f67efed",
   "metadata": {},
   "source": [
    "# Experiment with simulators\n",
    "\n",
    "We can run the above circuit on the simulator."
   ]
  },
  {
   "cell_type": "code",
   "execution_count": null,
   "id": "ac3edc17",
   "metadata": {},
   "outputs": [],
   "source": [
    "# use local simulator\n",
    "aer_sim = Aer.get_backend('aer_simulator')\n",
    "transpiled_circ = transpile(circ, aer_sim)\n",
    "qobj = assemble(transpiled_circ, aer_sim)\n",
    "results = aer_sim.run(qobj).result()\n",
    "answer = results.get_counts()\n",
    "\n",
    "plot_histogram(answer)"
   ]
  },
  {
   "cell_type": "markdown",
   "id": "2a6fc3b2",
   "metadata": {},
   "source": [
    "We can see that the result of the measurement is the hidden string 0010."
   ]
  }
 ],
 "metadata": {
  "kernelspec": {
   "display_name": "Python 3 (ipykernel)",
   "language": "python",
   "name": "python3"
  },
  "language_info": {
   "codemirror_mode": {
    "name": "ipython",
    "version": 3
   },
   "file_extension": ".py",
   "mimetype": "text/x-python",
   "name": "python",
   "nbconvert_exporter": "python",
   "pygments_lexer": "ipython3",
   "version": "3.9.7"
  }
 },
 "nbformat": 4,
 "nbformat_minor": 5
}
