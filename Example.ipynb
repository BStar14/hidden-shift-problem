{
 "cells": [
  {
   "attachments": {
    "%EB%8B%A4%EC%9A%B4%EB%A1%9C%EB%93%9C%20%284%29.png": {
     "image/png": "[encoded data removed]"
    }
   },
   "cell_type": "markdown",
   "metadata": {},
   "source": [
    "## 2. Example <a id='example'> </a>\n",
    "\n",
    "Let's go through a specific example of the hidden shift algorithm for the case $n=4$ and $s=100101$. In order to make the oracle simple we could employ the Maiorana-McFarland function:\n",
    "\n",
    "$$\n",
    "f(x,y) = (-1)^{g(x)+y\\cdot x} \n",
    "$$\n",
    "\n",
    "1. Apply Hadamard gate on all qubits.\n",
    "\n",
    "\n",
    "2. For the string $s=100101$, the first part of quamtum oracle performs the shift opeartion.\n",
    "\n",
    "\n",
    "3. For any Boolean function $g(x)$, $O_{g} = (-1)^{g(x)}$. This coud be implemented by Z gate , CZ gate and CCZ gate.\n",
    "![%EB%8B%A4%EC%9A%B4%EB%A1%9C%EB%93%9C%20%284%29.png](attachment:%EB%8B%A4%EC%9A%B4%EB%A1%9C%EB%93%9C%20%284%29.png)\n",
    "\n",
    "The oracle performs this sequene of inputs:\n",
    "\n",
    "\n",
    "|Input(x)|ouput(x)|\n",
    "|:-:|:-:|\n",
    "|000|1|\n",
    "|001|0|\n",
    "|010|0|\n",
    "|011|0|\n",
    "|100|1|\n",
    "|101|0|\n",
    "|110|0|\n",
    "|111|1|\n",
    "\n",
    "4. After applying $O{g}$ oracle, apply cz gate on $(q0,q3)$,$(q1,q4)$,$(q2,q5)$ \n",
    "\n",
    "5. Apply shift operation to corresponding qubits and  Hadamard gate on again all qubits.\n",
    "\n",
    "\n",
    "7.  Similar to front of the curcuit by applying $O{g}$ below and cz gate on $(q0,q3)$,$(q1,q4)$,$(q2,q5)$ we can impilment fourier f oracle\n",
    "\n",
    "\n",
    "8. Apply Hadamard gate again on all qubits.\n",
    "\n",
    "\n",
    "9. Measure to find the secret string $s$ and it would be $100101$\n",
    "$$\n",
    "\\rvert s \\rangle = 100101\n",
    "$$"
   ]
  },
  {
   "cell_type": "code",
   "execution_count": null,
   "metadata": {},
   "outputs": [],
   "source": [
    "\n"
   ]
  }
 ],
 "metadata": {
  "kernelspec": {
   "display_name": "Python 3",
   "language": "python",
   "name": "python3"
  },
  "language_info": {
   "codemirror_mode": {
    "name": "ipython",
    "version": 3
   },
   "file_extension": ".py",
   "mimetype": "text/x-python",
   "name": "python",
   "nbconvert_exporter": "python",
   "pygments_lexer": "ipython3",
   "version": "3.8.3"
  }
 },
 "nbformat": 4,
 "nbformat_minor": 5
}
